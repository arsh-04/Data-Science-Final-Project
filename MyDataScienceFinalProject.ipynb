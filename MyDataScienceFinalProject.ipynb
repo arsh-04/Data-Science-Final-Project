{
  "metadata": {
    "kernelspec": {
      "name": "python",
      "display_name": "Python (Pyodide)",
      "language": "python"
    },
    "language_info": {
      "codemirror_mode": {
        "name": "python",
        "version": 3
      },
      "file_extension": ".py",
      "mimetype": "text/x-python",
      "name": "python",
      "nbconvert_exporter": "python",
      "pygments_lexer": "ipython3",
      "version": "3.8"
    }
  },
  "nbformat_minor": 5,
  "nbformat": 4,
  "cells": [
    {
      "id": "99c706fc-4ce1-4d98-97f3-3122c5a3bbdf",
      "cell_type": "markdown",
      "source": "# My Data Science Final Project\n",
      "metadata": {}
    },
    {
      "id": "f210a674-2036-41ef-8a0f-c7fee9bbc8cd",
      "cell_type": "markdown",
      "source": "This notebook demonstrates basic data science tools, libraries, and arithmetic examples using Python.\n",
      "metadata": {}
    },
    {
      "id": "c27ddcd8-4fb6-4595-871c-0d860d5d31a6",
      "cell_type": "markdown",
      "source": "**Popular Data Science Languages:**\n1. Python\n2. R\n3. SQL\n4. Julia\n5. Scala\n",
      "metadata": {}
    },
    {
      "id": "aca29e54-37d5-43ca-9d0b-b0447dda9bc2",
      "cell_type": "markdown",
      "source": "**Common Data Science Libraries in Python:**\n- NumPy\n- Pandas\n- Matplotlib\n- Seaborn\n- Scikit-learn\n",
      "metadata": {}
    },
    {
      "id": "2ed8146b-0fa6-4443-a3fa-818ca6dacd97",
      "cell_type": "markdown",
      "source": "| Tool        | Purpose                       |\n|------------|-------------------------------|\n| Jupyter    | Interactive notebooks         |\n| RStudio    | Data analysis in R            |\n| VSCode     | Code editing                  |\n| Tableau    | Data visualization            |\n| GitHub     | Version control               |\n",
      "metadata": {}
    },
    {
      "id": "a62e2f68-8af5-49fd-b937-f583b806b2c5",
      "cell_type": "markdown",
      "source": "**Examples of Arithmetic Expressions in Python**\n",
      "metadata": {}
    },
    {
      "id": "d44cc578-0749-41bd-a22a-4daeb72b0943",
      "cell_type": "code",
      "source": "a = 5\nb = 10\nc = 2\n\nresult = a * b + c\nprint(\"Result:\", result)\n",
      "metadata": {
        "trusted": true
      },
      "outputs": [
        {
          "name": "stdout",
          "output_type": "stream",
          "text": "Result: 52\n"
        }
      ],
      "execution_count": 1
    },
    {
      "id": "ad72595a-e648-421a-956c-8e79341e7d2b",
      "cell_type": "code",
      "source": "minutes = 125\nhours = minutes / 60\nprint(minutes, \"minutes is\", hours, \"hours\")\n",
      "metadata": {
        "trusted": true
      },
      "outputs": [
        {
          "name": "stdout",
          "output_type": "stream",
          "text": "125 minutes is 2.0833333333333335 hours\n"
        }
      ],
      "execution_count": 2
    },
    {
      "id": "ec988f22-e048-4e70-bdf2-834aa8e8190e",
      "cell_type": "markdown",
      "source": "**Objectives of this Notebook**\n- Learn basic Python operations\n- Understand Markdown formatting\n- Explore Python arithmetic operations\n- Practice using JupyterLite\n",
      "metadata": {}
    },
    {
      "id": "e43f93f3-5ee1-4b08-b588-f0cdfeec4607",
      "cell_type": "markdown",
      "source": "**Author:** Arsh Aditey\n",
      "metadata": {}
    },
    {
      "id": "1a3b80b2-d472-4370-8a00-e9ce6a5b1519",
      "cell_type": "code",
      "source": "",
      "metadata": {
        "trusted": true
      },
      "outputs": [],
      "execution_count": null
    }
  ]
}